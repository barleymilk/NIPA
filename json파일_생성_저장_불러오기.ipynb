{
  "nbformat": 4,
  "nbformat_minor": 0,
  "metadata": {
    "colab": {
      "provenance": []
    },
    "kernelspec": {
      "name": "python3",
      "display_name": "Python 3"
    },
    "language_info": {
      "name": "python"
    }
  },
  "cells": [
    {
      "cell_type": "code",
      "execution_count": 1,
      "metadata": {
        "id": "h66obXpOBewW"
      },
      "outputs": [],
      "source": [
        "import json"
      ]
    },
    {
      "cell_type": "code",
      "source": [
        "# dict 데이터 만들기\n",
        "order_data = {\n",
        "    \"Nickname\": \"아메리카노시키신\",\n",
        "    \"Price\": 12000,\n",
        "    \"Ordered\": [\n",
        "        {\n",
        "            \"Coffee\": \"Latte\",\n",
        "            \"Info\": [\n",
        "                5000,\n",
        "                \"Ice\",\n",
        "                \"2 Shots\",\n",
        "                \"Soy Milk\"]\n",
        "        },\n",
        "        {\n",
        "            \"Dessert\": \"Cheesecake\",\n",
        "            \"Info\": [\n",
        "                7000,\n",
        "                \"1 Piece\"]\n",
        "        }\n",
        "    ]\n",
        "}\n",
        "order_data"
      ],
      "metadata": {
        "colab": {
          "base_uri": "https://localhost:8080/",
          "height": 0
        },
        "id": "y8h8tgKmBfw0",
        "outputId": "a2e565aa-b4d1-4b7f-e575-ca37aac9995a"
      },
      "execution_count": 2,
      "outputs": [
        {
          "output_type": "execute_result",
          "data": {
            "text/plain": [
              "{'Nickname': '아메리카노시키신',\n",
              " 'Price': 12000,\n",
              " 'Ordered': [{'Coffee': 'Latte', 'Info': [5000, 'Ice', '2 Shots', 'Soy Milk']},\n",
              "  {'Dessert': 'Cheesecake', 'Info': [7000, '1 Piece']}]}"
            ]
          },
          "metadata": {},
          "execution_count": 2
        }
      ]
    },
    {
      "cell_type": "code",
      "source": [
        "# with open(): json.dump() 를 사용해서 JSON 포맷 데이터를 디스크에 쓰기\n",
        "with open(\"order_file.json\", \"w\", encoding='utf-8') as json_file:\n",
        "  json.dump(order_data, json_file, ensure_ascii=False)"
      ],
      "metadata": {
        "id": "EFZkSVmDBm-T"
      },
      "execution_count": 3,
      "outputs": []
    },
    {
      "cell_type": "code",
      "source": [
        "# json.dumps()를 사용해서 JSON 포맷 데이터를 메모리에 만들기\n",
        "od_json = json.dumps(order_data, ensure_ascii=False)\n",
        "print(od_json)"
      ],
      "metadata": {
        "colab": {
          "base_uri": "https://localhost:8080/",
          "height": 0
        },
        "id": "Aa48VmqbBrVA",
        "outputId": "be9ad2f1-4172-4330-a649-147179f14525"
      },
      "execution_count": 4,
      "outputs": [
        {
          "output_type": "stream",
          "name": "stdout",
          "text": [
            "{\"Nickname\": \"아메리카노시키신\", \"Price\": 12000, \"Ordered\": [{\"Coffee\": \"Latte\", \"Info\": [5000, \"Ice\", \"2 Shots\", \"Soy Milk\"]}, {\"Dessert\": \"Cheesecake\", \"Info\": [7000, \"1 Piece\"]}]}\n"
          ]
        }
      ]
    },
    {
      "cell_type": "code",
      "source": [
        "# json.dumps()로 파이썬 객체를 직렬화해서 JSON으로 쓸 때 사람이 보기에 좀더 쉽도록 'indent = int' 로 들여쓰기(indentation) 옵션을 설정할 수 있습니다\n",
        "od_json2 = json.dumps(order_data, indent=4, ensure_ascii=False)\n",
        "print(od_json2)"
      ],
      "metadata": {
        "colab": {
          "base_uri": "https://localhost:8080/",
          "height": 0
        },
        "id": "PO0iNUgjB0hK",
        "outputId": "91384103-cf7e-475f-c539-f9eb9bbcee60"
      },
      "execution_count": 5,
      "outputs": [
        {
          "output_type": "stream",
          "name": "stdout",
          "text": [
            "{\n",
            "    \"Nickname\": \"아메리카노시키신\",\n",
            "    \"Price\": 12000,\n",
            "    \"Ordered\": [\n",
            "        {\n",
            "            \"Coffee\": \"Latte\",\n",
            "            \"Info\": [\n",
            "                5000,\n",
            "                \"Ice\",\n",
            "                \"2 Shots\",\n",
            "                \"Soy Milk\"\n",
            "            ]\n",
            "        },\n",
            "        {\n",
            "            \"Dessert\": \"Cheesecake\",\n",
            "            \"Info\": [\n",
            "                7000,\n",
            "                \"1 Piece\"\n",
            "            ]\n",
            "        }\n",
            "    ]\n",
            "}\n"
          ]
        }
      ]
    },
    {
      "cell_type": "code",
      "source": [
        "# 'sort_keys=True' 를 설정해주면 키(keys)를 기준으로 정렬해서 직렬화하여 내보낼 수도 있습니다.\n",
        "od_json3 = json.dumps(order_data, indent=4, sort_keys=True, ensure_ascii=False)\n",
        "print(od_json3)"
      ],
      "metadata": {
        "colab": {
          "base_uri": "https://localhost:8080/",
          "height": 0
        },
        "id": "OK3eP_XUCAn9",
        "outputId": "2e033723-d144-4784-9501-7c8190884961"
      },
      "execution_count": 6,
      "outputs": [
        {
          "output_type": "stream",
          "name": "stdout",
          "text": [
            "{\n",
            "    \"Nickname\": \"아메리카노시키신\",\n",
            "    \"Ordered\": [\n",
            "        {\n",
            "            \"Coffee\": \"Latte\",\n",
            "            \"Info\": [\n",
            "                5000,\n",
            "                \"Ice\",\n",
            "                \"2 Shots\",\n",
            "                \"Soy Milk\"\n",
            "            ]\n",
            "        },\n",
            "        {\n",
            "            \"Dessert\": \"Cheesecake\",\n",
            "            \"Info\": [\n",
            "                7000,\n",
            "                \"1 Piece\"\n",
            "            ]\n",
            "        }\n",
            "    ],\n",
            "    \"Price\": 12000\n",
            "}\n"
          ]
        }
      ]
    },
    {
      "cell_type": "code",
      "source": [
        "# 디스크에 있는 JSON 포맷 데이터를 json.load()를 사용하여 Python 객체로 읽어오기 (역직렬화, 디코딩 하기)\n",
        "with open(\"order_file.json\", \"r\") as od_json:\n",
        "    od_python = json.load(od_json)\n",
        "od_python"
      ],
      "metadata": {
        "colab": {
          "base_uri": "https://localhost:8080/",
          "height": 0
        },
        "id": "3Lb7cOI8CE9k",
        "outputId": "31db2cac-21ad-42bb-a22e-63615e550e6e"
      },
      "execution_count": 7,
      "outputs": [
        {
          "output_type": "execute_result",
          "data": {
            "text/plain": [
              "{'Nickname': '아메리카노시키신',\n",
              " 'Price': 12000,\n",
              " 'Ordered': [{'Coffee': 'Latte', 'Info': [5000, 'Ice', '2 Shots', 'Soy Milk']},\n",
              "  {'Dessert': 'Cheesecake', 'Info': [7000, '1 Piece']}]}"
            ]
          },
          "metadata": {},
          "execution_count": 7
        }
      ]
    },
    {
      "cell_type": "code",
      "source": [
        "# 메모리에 있는 JSON 포맷 데이터를 json.loads()로 Python 객체로 읽기 (역직렬화, 디코딩하기)\n",
        "od_python2 = json.loads(od_json3)\n",
        "od_python2"
      ],
      "metadata": {
        "colab": {
          "base_uri": "https://localhost:8080/",
          "height": 0
        },
        "id": "7zLgmDPoCOrF",
        "outputId": "bc55655f-d76f-4c65-9e7f-f1d29d4f9a61"
      },
      "execution_count": 8,
      "outputs": [
        {
          "output_type": "execute_result",
          "data": {
            "text/plain": [
              "{'Nickname': '아메리카노시키신',\n",
              " 'Ordered': [{'Coffee': 'Latte', 'Info': [5000, 'Ice', '2 Shots', 'Soy Milk']},\n",
              "  {'Dessert': 'Cheesecake', 'Info': [7000, '1 Piece']}],\n",
              " 'Price': 12000}"
            ]
          },
          "metadata": {},
          "execution_count": 8
        }
      ]
    }
  ]
}